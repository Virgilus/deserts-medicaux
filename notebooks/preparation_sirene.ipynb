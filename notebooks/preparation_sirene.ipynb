{
 "cells": [
  {
   "cell_type": "markdown",
   "metadata": {},
   "source": [
    "# Traitement de la base Sirene"
   ]
  },
  {
   "cell_type": "code",
   "execution_count": 6,
   "metadata": {},
   "outputs": [],
   "source": [
    "import os\n",
    "\n",
    "import pandas as pd"
   ]
  },
  {
   "cell_type": "code",
   "execution_count": 44,
   "metadata": {},
   "outputs": [],
   "source": [
    "# Déclaration des constantes\n",
    "DATA_DIR = '../data/external/'\n",
    "ENTITIES_FILENAME = 'StockUniteLegale_utf8.zip'\n",
    "ETAB_FILENAME = 'StockEtablissement_utf8.zip'\n",
    "\n",
    "ACTIVITY_CODE = '86.'"
   ]
  },
  {
   "cell_type": "markdown",
   "metadata": {},
   "source": [
    "### Préparation des entités"
   ]
  },
  {
   "cell_type": "code",
   "execution_count": 4,
   "metadata": {},
   "outputs": [
    {
     "data": {
      "text/html": [
       "<div>\n",
       "<style scoped>\n",
       "    .dataframe tbody tr th:only-of-type {\n",
       "        vertical-align: middle;\n",
       "    }\n",
       "\n",
       "    .dataframe tbody tr th {\n",
       "        vertical-align: top;\n",
       "    }\n",
       "\n",
       "    .dataframe thead th {\n",
       "        text-align: right;\n",
       "    }\n",
       "</style>\n",
       "<table border=\"1\" class=\"dataframe\">\n",
       "  <thead>\n",
       "    <tr style=\"text-align: right;\">\n",
       "      <th></th>\n",
       "      <th>siren</th>\n",
       "      <th>statutdiffusionunitelegale</th>\n",
       "      <th>unitepurgeeunitelegale</th>\n",
       "      <th>datecreationunitelegale</th>\n",
       "      <th>sigleunitelegale</th>\n",
       "      <th>sexeunitelegale</th>\n",
       "      <th>prenom1unitelegale</th>\n",
       "      <th>prenom2unitelegale</th>\n",
       "      <th>prenom3unitelegale</th>\n",
       "      <th>prenom4unitelegale</th>\n",
       "      <th>...</th>\n",
       "      <th>denominationunitelegale</th>\n",
       "      <th>denominationusuelle1unitelegale</th>\n",
       "      <th>denominationusuelle2unitelegale</th>\n",
       "      <th>denominationusuelle3unitelegale</th>\n",
       "      <th>categoriejuridiqueunitelegale</th>\n",
       "      <th>activiteprincipaleunitelegale</th>\n",
       "      <th>nomenclatureactiviteprincipaleunitelegale</th>\n",
       "      <th>nicsiegeunitelegale</th>\n",
       "      <th>economiesocialesolidaireunitelegale</th>\n",
       "      <th>caractereemployeurunitelegale</th>\n",
       "    </tr>\n",
       "  </thead>\n",
       "  <tbody>\n",
       "    <tr>\n",
       "      <th>0</th>\n",
       "      <td>325175</td>\n",
       "      <td>O</td>\n",
       "      <td>NaN</td>\n",
       "      <td>2000-09-26</td>\n",
       "      <td>NaN</td>\n",
       "      <td>M</td>\n",
       "      <td>THIERRY</td>\n",
       "      <td>NaN</td>\n",
       "      <td>NaN</td>\n",
       "      <td>NaN</td>\n",
       "      <td>...</td>\n",
       "      <td>NaN</td>\n",
       "      <td>NaN</td>\n",
       "      <td>NaN</td>\n",
       "      <td>NaN</td>\n",
       "      <td>1000</td>\n",
       "      <td>32.12Z</td>\n",
       "      <td>NAFRev2</td>\n",
       "      <td>65</td>\n",
       "      <td>NaN</td>\n",
       "      <td>N</td>\n",
       "    </tr>\n",
       "    <tr>\n",
       "      <th>1</th>\n",
       "      <td>1807254</td>\n",
       "      <td>O</td>\n",
       "      <td>NaN</td>\n",
       "      <td>1972-05-01</td>\n",
       "      <td>NaN</td>\n",
       "      <td>M</td>\n",
       "      <td>JACQUES-LUCIEN</td>\n",
       "      <td>NaN</td>\n",
       "      <td>NaN</td>\n",
       "      <td>NaN</td>\n",
       "      <td>...</td>\n",
       "      <td>NaN</td>\n",
       "      <td>NaN</td>\n",
       "      <td>NaN</td>\n",
       "      <td>NaN</td>\n",
       "      <td>1000</td>\n",
       "      <td>85.59A</td>\n",
       "      <td>NAFRev2</td>\n",
       "      <td>22</td>\n",
       "      <td>NaN</td>\n",
       "      <td>N</td>\n",
       "    </tr>\n",
       "    <tr>\n",
       "      <th>2</th>\n",
       "      <td>5410220</td>\n",
       "      <td>O</td>\n",
       "      <td>True</td>\n",
       "      <td>1954-12-25</td>\n",
       "      <td>NaN</td>\n",
       "      <td>M</td>\n",
       "      <td>GEORGES</td>\n",
       "      <td>NaN</td>\n",
       "      <td>NaN</td>\n",
       "      <td>NaN</td>\n",
       "      <td>...</td>\n",
       "      <td>NaN</td>\n",
       "      <td>NaN</td>\n",
       "      <td>NaN</td>\n",
       "      <td>NaN</td>\n",
       "      <td>1000</td>\n",
       "      <td>22.02</td>\n",
       "      <td>NAP</td>\n",
       "      <td>15</td>\n",
       "      <td>NaN</td>\n",
       "      <td>N</td>\n",
       "    </tr>\n",
       "    <tr>\n",
       "      <th>3</th>\n",
       "      <td>5410345</td>\n",
       "      <td>O</td>\n",
       "      <td>True</td>\n",
       "      <td>NaN</td>\n",
       "      <td>NaN</td>\n",
       "      <td>M</td>\n",
       "      <td>MICHEL</td>\n",
       "      <td>NaN</td>\n",
       "      <td>NaN</td>\n",
       "      <td>NaN</td>\n",
       "      <td>...</td>\n",
       "      <td>NaN</td>\n",
       "      <td>NaN</td>\n",
       "      <td>NaN</td>\n",
       "      <td>NaN</td>\n",
       "      <td>1000</td>\n",
       "      <td>79.06</td>\n",
       "      <td>NAP</td>\n",
       "      <td>10</td>\n",
       "      <td>NaN</td>\n",
       "      <td>N</td>\n",
       "    </tr>\n",
       "    <tr>\n",
       "      <th>4</th>\n",
       "      <td>5410394</td>\n",
       "      <td>O</td>\n",
       "      <td>True</td>\n",
       "      <td>1954-12-25</td>\n",
       "      <td>NaN</td>\n",
       "      <td>M</td>\n",
       "      <td>ROBERT</td>\n",
       "      <td>ALFRED</td>\n",
       "      <td>NaN</td>\n",
       "      <td>NaN</td>\n",
       "      <td>...</td>\n",
       "      <td>NaN</td>\n",
       "      <td>NaN</td>\n",
       "      <td>NaN</td>\n",
       "      <td>NaN</td>\n",
       "      <td>1000</td>\n",
       "      <td>64.42</td>\n",
       "      <td>NAP</td>\n",
       "      <td>18</td>\n",
       "      <td>NaN</td>\n",
       "      <td>N</td>\n",
       "    </tr>\n",
       "  </tbody>\n",
       "</table>\n",
       "<p>5 rows × 33 columns</p>\n",
       "</div>"
      ],
      "text/plain": [
       "     siren statutdiffusionunitelegale unitepurgeeunitelegale  \\\n",
       "0   325175                          O                    NaN   \n",
       "1  1807254                          O                    NaN   \n",
       "2  5410220                          O                   True   \n",
       "3  5410345                          O                   True   \n",
       "4  5410394                          O                   True   \n",
       "\n",
       "  datecreationunitelegale sigleunitelegale sexeunitelegale prenom1unitelegale  \\\n",
       "0              2000-09-26              NaN               M            THIERRY   \n",
       "1              1972-05-01              NaN               M     JACQUES-LUCIEN   \n",
       "2              1954-12-25              NaN               M            GEORGES   \n",
       "3                     NaN              NaN               M             MICHEL   \n",
       "4              1954-12-25              NaN               M             ROBERT   \n",
       "\n",
       "  prenom2unitelegale prenom3unitelegale prenom4unitelegale  ...  \\\n",
       "0                NaN                NaN                NaN  ...   \n",
       "1                NaN                NaN                NaN  ...   \n",
       "2                NaN                NaN                NaN  ...   \n",
       "3                NaN                NaN                NaN  ...   \n",
       "4             ALFRED                NaN                NaN  ...   \n",
       "\n",
       "  denominationunitelegale  denominationusuelle1unitelegale  \\\n",
       "0                     NaN                              NaN   \n",
       "1                     NaN                              NaN   \n",
       "2                     NaN                              NaN   \n",
       "3                     NaN                              NaN   \n",
       "4                     NaN                              NaN   \n",
       "\n",
       "   denominationusuelle2unitelegale denominationusuelle3unitelegale  \\\n",
       "0                              NaN                             NaN   \n",
       "1                              NaN                             NaN   \n",
       "2                              NaN                             NaN   \n",
       "3                              NaN                             NaN   \n",
       "4                              NaN                             NaN   \n",
       "\n",
       "   categoriejuridiqueunitelegale activiteprincipaleunitelegale  \\\n",
       "0                           1000                        32.12Z   \n",
       "1                           1000                        85.59A   \n",
       "2                           1000                         22.02   \n",
       "3                           1000                         79.06   \n",
       "4                           1000                         64.42   \n",
       "\n",
       "   nomenclatureactiviteprincipaleunitelegale nicsiegeunitelegale  \\\n",
       "0                                    NAFRev2                  65   \n",
       "1                                    NAFRev2                  22   \n",
       "2                                        NAP                  15   \n",
       "3                                        NAP                  10   \n",
       "4                                        NAP                  18   \n",
       "\n",
       "   economiesocialesolidaireunitelegale caractereemployeurunitelegale  \n",
       "0                                  NaN                             N  \n",
       "1                                  NaN                             N  \n",
       "2                                  NaN                             N  \n",
       "3                                  NaN                             N  \n",
       "4                                  NaN                             N  \n",
       "\n",
       "[5 rows x 33 columns]"
      ]
     },
     "execution_count": 4,
     "metadata": {},
     "output_type": "execute_result"
    }
   ],
   "source": [
    "# le os.path.join permet de concaténer le repertoire avec le nom du fichier de manière propre.\n",
    "\n",
    "pd.read_csv(os.path.join(DATA_DIR,ENTITIES_FILENAME),\n",
    "           compression = 'zip',\n",
    "           nrows = 1000 # Limite à 1000 lignes la lecture\n",
    "           ).head()"
   ]
  },
  {
   "cell_type": "code",
   "execution_count": 8,
   "metadata": {},
   "outputs": [
    {
     "data": {
      "text/plain": [
       "Index(['siren', 'statutdiffusionunitelegale', 'unitepurgeeunitelegale',\n",
       "       'datecreationunitelegale', 'sigleunitelegale', 'sexeunitelegale',\n",
       "       'prenom1unitelegale', 'prenom2unitelegale', 'prenom3unitelegale',\n",
       "       'prenom4unitelegale', 'prenomusuelunitelegale', 'pseudonymeunitelegale',\n",
       "       'identifiantassociationunitelegale', 'trancheeffectifsunitelegale',\n",
       "       'anneeeffectifsunitelegale', 'datederniertraitementunitelegale',\n",
       "       'nombreperiodesunitelegale', 'categorieentreprise',\n",
       "       'anneecategorieentreprise', 'datedebut', 'etatadministratifunitelegale',\n",
       "       'nomunitelegale', 'nomusageunitelegale', 'denominationunitelegale',\n",
       "       'denominationusuelle1unitelegale', 'denominationusuelle2unitelegale',\n",
       "       'denominationusuelle3unitelegale', 'categoriejuridiqueunitelegale',\n",
       "       'activiteprincipaleunitelegale',\n",
       "       'nomenclatureactiviteprincipaleunitelegale', 'nicsiegeunitelegale',\n",
       "       'economiesocialesolidaireunitelegale', 'caractereemployeurunitelegale'],\n",
       "      dtype='object')"
      ]
     },
     "execution_count": 8,
     "metadata": {},
     "output_type": "execute_result"
    }
   ],
   "source": [
    "pd.read_csv(os.path.join(DATA_DIR,ENTITIES_FILENAME),\n",
    "           compression = 'zip',\n",
    "           nrows = 1000 # Limite à 1000 lignes la lecture\n",
    "           ).columns"
   ]
  },
  {
   "cell_type": "code",
   "execution_count": null,
   "metadata": {},
   "outputs": [],
   "source": [
    "pd.read_csv(os.path.join(DATA_DIR,ENTITIES_FILENAME),\n",
    "           compression = 'zip',\n",
    "           nrows = 1000 # Limite à 1000 lignes la lecture\n",
    "           )['activiteprincipaleunitelegale'].value_counts()"
   ]
  },
  {
   "cell_type": "code",
   "execution_count": 26,
   "metadata": {},
   "outputs": [
    {
     "data": {
      "text/plain": [
       "86.06     4\n",
       "86.04     3\n",
       "86.10Z    1\n",
       "86.09     1\n",
       "86.11     1\n",
       "Name: activiteprincipaleunitelegale, dtype: int64"
      ]
     },
     "execution_count": 26,
     "metadata": {},
     "output_type": "execute_result"
    }
   ],
   "source": [
    "entities_df = (pd.read_csv(os.path.join(DATA_DIR,ENTITIES_FILENAME),\n",
    "           compression = 'zip',\n",
    "           nrows = 1000 # Limite à 1000 lignes la lecture\n",
    "           )\n",
    "        ).dropna(subset=['activiteprincipaleunitelegale'])\n",
    "               \n",
    "(entities_df[entities_df.activiteprincipaleunitelegale.str.startswith(ACTIVITY_CODE)] # ACTIVITY_CODE = 86.\n",
    " ['activiteprincipaleunitelegale']\n",
    " .value_counts()  # permet d'afficher le nombre d'occurrence de toutes les valeurs commençant par 86. \n",
    ")"
   ]
  },
  {
   "cell_type": "code",
   "execution_count": 40,
   "metadata": {},
   "outputs": [
    {
     "data": {
      "text/plain": [
       "86.90D    125708\n",
       "86.90E    119717\n",
       "86.21Z     86603\n",
       "86.90F     72229\n",
       "86.22C     44364\n",
       "86.23Z     43190\n",
       "86.90A      6845\n",
       "86.22A      5778\n",
       "86.22B      5643\n",
       "86.10Z      3201\n",
       "86.90B      3030\n",
       "86.06        463\n",
       "86.08        299\n",
       "86.02        219\n",
       "86.10        175\n",
       "86.07        170\n",
       "86.90C       146\n",
       "86.01        118\n",
       "86.12         51\n",
       "86.09         32\n",
       "86.05         31\n",
       "86.04         27\n",
       "86.03          7\n",
       "86.11          6\n",
       "Name: activiteprincipaleunitelegale, dtype: int64"
      ]
     },
     "execution_count": 40,
     "metadata": {},
     "output_type": "execute_result"
    }
   ],
   "source": [
    "entities_df = (pd.read_csv(os.path.join(DATA_DIR,ENTITIES_FILENAME),\n",
    "           usecols=['activiteprincipaleunitelegale','datecreationunitelegale','denominationunitelegale','nomunitelegale','etatadministratifunitelegale',],             \n",
    "           compression = 'zip',\n",
    "           #nrows = 100000 # Limite à 1000 lignes la lecture\n",
    "           )\n",
    "        ).dropna(subset=['activiteprincipaleunitelegale']).query('etatadministratifunitelegale == \"A\"') # A si actif, F si fermé. Ici on cherche les actives.\n",
    "               \n",
    "(entities_df[entities_df.activiteprincipaleunitelegale.str.startswith(ACTIVITY_CODE)] # ACTIVITY_CODE = 86.\n",
    " ['activiteprincipaleunitelegale']\n",
    " .value_counts()\n",
    ")"
   ]
  },
  {
   "cell_type": "code",
   "execution_count": 41,
   "metadata": {},
   "outputs": [
    {
     "data": {
      "text/plain": [
       "(11696143, 5)"
      ]
     },
     "execution_count": 41,
     "metadata": {},
     "output_type": "execute_result"
    }
   ],
   "source": [
    "entities_df.shape"
   ]
  },
  {
   "cell_type": "code",
   "execution_count": 38,
   "metadata": {},
   "outputs": [
    {
     "data": {
      "text/plain": [
       "False"
      ]
     },
     "execution_count": 38,
     "metadata": {},
     "output_type": "execute_result"
    }
   ],
   "source": [
    "# Lorsque denominationunitelegale est nul, nomunitelegale est présent, et vice-versa\n",
    "entities_df.denominationunitelegale.isnull().sum() + entities_df.nomunitelegale.isnull().sum() == entities_df.shape[0]"
   ]
  },
  {
   "cell_type": "code",
   "execution_count": 39,
   "metadata": {},
   "outputs": [
    {
     "data": {
      "text/plain": [
       "-557"
      ]
     },
     "execution_count": 39,
     "metadata": {},
     "output_type": "execute_result"
    }
   ],
   "source": [
    "entities_df.shape[0] - (entities_df.denominationunitelegale.isnull().sum() + entities_df.nomunitelegale.isnull().sum())"
   ]
  },
  {
   "cell_type": "code",
   "execution_count": 42,
   "metadata": {},
   "outputs": [
    {
     "data": {
      "text/plain": [
       "8497809"
      ]
     },
     "execution_count": 42,
     "metadata": {},
     "output_type": "execute_result"
    }
   ],
   "source": [
    "20193952 - 11696143"
   ]
  },
  {
   "cell_type": "markdown",
   "metadata": {},
   "source": [
    "#### Création du DF Entities"
   ]
  },
  {
   "cell_type": "code",
   "execution_count": 85,
   "metadata": {},
   "outputs": [
    {
     "name": "stderr",
     "output_type": "stream",
     "text": [
      "<string>:2: DtypeWarning: Columns (21) have mixed types. Specify dtype option on import or set low_memory=False.\n"
     ]
    },
    {
     "name": "stdout",
     "output_type": "stream",
     "text": [
      "Wall time: 44.6 s\n"
     ]
    }
   ],
   "source": [
    "%%time\n",
    "entities_df = (pd.read_csv(os.path.join(DATA_DIR,ENTITIES_FILENAME),\n",
    "           usecols=['siren','activiteprincipaleunitelegale',\n",
    "                    'datecreationunitelegale','denominationunitelegale',\n",
    "                    'nomunitelegale','etatadministratifunitelegale',],             \n",
    "           compression = 'zip',\n",
    "           #nrows = 1000000 # Limite à n lignes la lecture\n",
    "           )\n",
    "        ).dropna(subset=['activiteprincipaleunitelegale']).query('etatadministratifunitelegale == \"A\"') # A si actif, F si fermé. Ici on cherche les actives.\n",
    "               \n",
    "\n",
    "# Filtrage des professionnels de santé\n",
    "#entities_df = entities_df[entities_df.activiteprincipaleunitelegale.str.startswith(ACTIVITY_CODE)] # ACTIVITY_CODE = 86."
   ]
  },
  {
   "cell_type": "code",
   "execution_count": 87,
   "metadata": {},
   "outputs": [
    {
     "data": {
      "text/plain": [
       "(11696143, 6)"
      ]
     },
     "execution_count": 87,
     "metadata": {},
     "output_type": "execute_result"
    }
   ],
   "source": [
    "entities_df.shape"
   ]
  },
  {
   "cell_type": "markdown",
   "metadata": {},
   "source": [
    "### Etablissement"
   ]
  },
  {
   "cell_type": "code",
   "execution_count": 48,
   "metadata": {},
   "outputs": [
    {
     "data": {
      "text/plain": [
       "Index(['siren', 'nic', 'siret', 'statutdiffusionetablissement',\n",
       "       'datecreationetablissement', 'trancheeffectifsetablissement',\n",
       "       'anneeeffectifsetablissement',\n",
       "       'activiteprincipaleregistremetiersetablissement',\n",
       "       'datederniertraitementetablissement', 'etablissementsiege',\n",
       "       'nombreperiodesetablissement', 'complementadresseetablissement',\n",
       "       'numerovoieetablissement', 'indicerepetitionetablissement',\n",
       "       'typevoieetablissement', 'libellevoieetablissement',\n",
       "       'codepostaletablissement', 'libellecommuneetablissement',\n",
       "       'libellecommuneetrangeretablissement',\n",
       "       'distributionspecialeetablissement', 'codecommuneetablissement',\n",
       "       'codecedexetablissement', 'libellecedexetablissement',\n",
       "       'codepaysetrangeretablissement', 'libellepaysetrangeretablissement',\n",
       "       'complementadresse2etablissement', 'numerovoie2etablissement',\n",
       "       'indicerepetition2etablissement', 'typevoie2etablissement',\n",
       "       'libellevoie2etablissement', 'codepostal2etablissement',\n",
       "       'libellecommune2etablissement', 'libellecommuneetranger2etablissement',\n",
       "       'distributionspeciale2etablissement', 'codecommune2etablissement',\n",
       "       'codecedex2etablissement', 'libellecedex2etablissement',\n",
       "       'codepaysetranger2etablissement', 'libellepaysetranger2etablissement',\n",
       "       'datedebut', 'etatadministratifetablissement', 'enseigne1etablissement',\n",
       "       'enseigne2etablissement', 'enseigne3etablissement',\n",
       "       'denominationusuelleetablissement', 'activiteprincipaleetablissement',\n",
       "       'nomenclatureactiviteprincipaleetablissement',\n",
       "       'caractereemployeuretablissement'],\n",
       "      dtype='object')"
      ]
     },
     "execution_count": 48,
     "metadata": {},
     "output_type": "execute_result"
    }
   ],
   "source": [
    "pd.read_csv(os.path.join(DATA_DIR,ETAB_FILENAME),\n",
    "           compression = 'zip',\n",
    "           nrows = 1000 # Limite à 1000 lignes la lecture\n",
    "           ).columns"
   ]
  },
  {
   "cell_type": "code",
   "execution_count": null,
   "metadata": {},
   "outputs": [],
   "source": [
    "pd.read_csv(os.path.join(DATA_DIR,ETAB_FILENAME),\n",
    "           compression = 'zip',\n",
    "           nrows = 1000 # Limite à 1000 lignes la lecture\n",
    "           ).head()"
   ]
  },
  {
   "cell_type": "markdown",
   "metadata": {},
   "source": [
    "### Création du DF Etab"
   ]
  },
  {
   "cell_type": "code",
   "execution_count": 86,
   "metadata": {},
   "outputs": [
    {
     "name": "stderr",
     "output_type": "stream",
     "text": [
      "<string>:2: DtypeWarning: Columns (20,41,44) have mixed types. Specify dtype option on import or set low_memory=False.\n"
     ]
    },
    {
     "name": "stdout",
     "output_type": "stream",
     "text": [
      "Wall time: 1min 28s\n"
     ]
    }
   ],
   "source": [
    "%%time\n",
    "etab_df = (pd.read_csv(os.path.join(DATA_DIR,ETAB_FILENAME),\n",
    "           usecols=['siren','activiteprincipaleetablissement',\n",
    "                    'datecreationetablissement','denominationusuelleetablissement',\n",
    "                    'etatadministratifetablissement','codepostaletablissement',\n",
    "                    'libellecommuneetablissement','codecommuneetablissement','enseigne1etablissement',],             \n",
    "           compression = 'zip',\n",
    "           #nrows = 100000 # Limite à n lignes la lecture\n",
    "           )\n",
    "        ).dropna(subset=['activiteprincipaleetablissement']).query('etatadministratifetablissement == \"A\"') # A si actif, F si fermé. Ici on cherche les actives.\n",
    "\n",
    "# Filtrage des professionnels de santé\n",
    "#etab_df = etab_df[etab_df.activiteprincipaleetablissement.str.startswith(ACTIVITY_CODE)] # ACTIVITY_CODE = 86."
   ]
  },
  {
   "cell_type": "code",
   "execution_count": 88,
   "metadata": {},
   "outputs": [
    {
     "data": {
      "text/plain": [
       "(11233968, 9)"
      ]
     },
     "execution_count": 88,
     "metadata": {},
     "output_type": "execute_result"
    }
   ],
   "source": [
    "etab_df.shape"
   ]
  },
  {
   "cell_type": "code",
   "execution_count": 59,
   "metadata": {},
   "outputs": [
    {
     "data": {
      "text/html": [
       "<div>\n",
       "<style scoped>\n",
       "    .dataframe tbody tr th:only-of-type {\n",
       "        vertical-align: middle;\n",
       "    }\n",
       "\n",
       "    .dataframe tbody tr th {\n",
       "        vertical-align: top;\n",
       "    }\n",
       "\n",
       "    .dataframe thead th {\n",
       "        text-align: right;\n",
       "    }\n",
       "</style>\n",
       "<table border=\"1\" class=\"dataframe\">\n",
       "  <thead>\n",
       "    <tr style=\"text-align: right;\">\n",
       "      <th></th>\n",
       "      <th>datecreationetablissement</th>\n",
       "      <th>codepostaletablissement</th>\n",
       "      <th>libellecommuneetablissement</th>\n",
       "      <th>codecommuneetablissement</th>\n",
       "      <th>etatadministratifetablissement</th>\n",
       "      <th>denominationusuelleetablissement</th>\n",
       "      <th>activiteprincipaleetablissement</th>\n",
       "    </tr>\n",
       "  </thead>\n",
       "  <tbody>\n",
       "    <tr>\n",
       "      <th>892</th>\n",
       "      <td>1983-09-28</td>\n",
       "      <td>80100.0</td>\n",
       "      <td>ABBEVILLE</td>\n",
       "      <td>80001</td>\n",
       "      <td>A</td>\n",
       "      <td>NaN</td>\n",
       "      <td>86.10Z</td>\n",
       "    </tr>\n",
       "    <tr>\n",
       "      <th>6424</th>\n",
       "      <td>1970-01-01</td>\n",
       "      <td>4510.0</td>\n",
       "      <td>AIGLUN</td>\n",
       "      <td>04001</td>\n",
       "      <td>A</td>\n",
       "      <td>NaN</td>\n",
       "      <td>86.10Z</td>\n",
       "    </tr>\n",
       "    <tr>\n",
       "      <th>17575</th>\n",
       "      <td>1971-01-01</td>\n",
       "      <td>21000.0</td>\n",
       "      <td>DIJON</td>\n",
       "      <td>21231</td>\n",
       "      <td>A</td>\n",
       "      <td>NaN</td>\n",
       "      <td>86.10Z</td>\n",
       "    </tr>\n",
       "    <tr>\n",
       "      <th>26233</th>\n",
       "      <td>2002-12-19</td>\n",
       "      <td>97600.0</td>\n",
       "      <td>MAMOUDZOU</td>\n",
       "      <td>97611</td>\n",
       "      <td>A</td>\n",
       "      <td>NaN</td>\n",
       "      <td>86.90B</td>\n",
       "    </tr>\n",
       "    <tr>\n",
       "      <th>34605</th>\n",
       "      <td>2009-01-01</td>\n",
       "      <td>31200.0</td>\n",
       "      <td>TOULOUSE</td>\n",
       "      <td>31555</td>\n",
       "      <td>A</td>\n",
       "      <td>NaN</td>\n",
       "      <td>86.23Z</td>\n",
       "    </tr>\n",
       "    <tr>\n",
       "      <th>37513</th>\n",
       "      <td>1997-01-27</td>\n",
       "      <td>6600.0</td>\n",
       "      <td>ANTIBES</td>\n",
       "      <td>06004</td>\n",
       "      <td>A</td>\n",
       "      <td>POLE ANTIBES SAINT JEAN</td>\n",
       "      <td>86.10Z</td>\n",
       "    </tr>\n",
       "    <tr>\n",
       "      <th>41402</th>\n",
       "      <td>1985-01-01</td>\n",
       "      <td>39100.0</td>\n",
       "      <td>DOLE</td>\n",
       "      <td>39198</td>\n",
       "      <td>A</td>\n",
       "      <td>NaN</td>\n",
       "      <td>86.90B</td>\n",
       "    </tr>\n",
       "    <tr>\n",
       "      <th>41851</th>\n",
       "      <td>2004-10-01</td>\n",
       "      <td>64100.0</td>\n",
       "      <td>BAYONNE</td>\n",
       "      <td>64102</td>\n",
       "      <td>A</td>\n",
       "      <td>NaN</td>\n",
       "      <td>86.21Z</td>\n",
       "    </tr>\n",
       "  </tbody>\n",
       "</table>\n",
       "</div>"
      ],
      "text/plain": [
       "      datecreationetablissement  codepostaletablissement  \\\n",
       "892                  1983-09-28                  80100.0   \n",
       "6424                 1970-01-01                   4510.0   \n",
       "17575                1971-01-01                  21000.0   \n",
       "26233                2002-12-19                  97600.0   \n",
       "34605                2009-01-01                  31200.0   \n",
       "37513                1997-01-27                   6600.0   \n",
       "41402                1985-01-01                  39100.0   \n",
       "41851                2004-10-01                  64100.0   \n",
       "\n",
       "      libellecommuneetablissement codecommuneetablissement  \\\n",
       "892                     ABBEVILLE                    80001   \n",
       "6424                       AIGLUN                    04001   \n",
       "17575                       DIJON                    21231   \n",
       "26233                   MAMOUDZOU                    97611   \n",
       "34605                    TOULOUSE                    31555   \n",
       "37513                     ANTIBES                    06004   \n",
       "41402                        DOLE                    39198   \n",
       "41851                     BAYONNE                    64102   \n",
       "\n",
       "      etatadministratifetablissement denominationusuelleetablissement  \\\n",
       "892                                A                              NaN   \n",
       "6424                               A                              NaN   \n",
       "17575                              A                              NaN   \n",
       "26233                              A                              NaN   \n",
       "34605                              A                              NaN   \n",
       "37513                              A          POLE ANTIBES SAINT JEAN   \n",
       "41402                              A                              NaN   \n",
       "41851                              A                              NaN   \n",
       "\n",
       "      activiteprincipaleetablissement  \n",
       "892                            86.10Z  \n",
       "6424                           86.10Z  \n",
       "17575                          86.10Z  \n",
       "26233                          86.90B  \n",
       "34605                          86.23Z  \n",
       "37513                          86.10Z  \n",
       "41402                          86.90B  \n",
       "41851                          86.21Z  "
      ]
     },
     "execution_count": 59,
     "metadata": {},
     "output_type": "execute_result"
    }
   ],
   "source": [
    "etab_df.head(8)"
   ]
  },
  {
   "cell_type": "markdown",
   "metadata": {},
   "source": [
    "### Fusion de deux df sur la clé 'siren'"
   ]
  },
  {
   "cell_type": "code",
   "execution_count": 89,
   "metadata": {},
   "outputs": [
    {
     "name": "stdout",
     "output_type": "stream",
     "text": [
      "Wall time: 10.4 s\n"
     ]
    }
   ],
   "source": [
    "%%time\n",
    "process_df = etab_df.merge(entities_df, on='siren', how='left')"
   ]
  },
  {
   "cell_type": "code",
   "execution_count": 90,
   "metadata": {},
   "outputs": [
    {
     "data": {
      "text/plain": [
       "(11233968, 14)"
      ]
     },
     "execution_count": 90,
     "metadata": {},
     "output_type": "execute_result"
    }
   ],
   "source": [
    "process_df.shape"
   ]
  },
  {
   "cell_type": "code",
   "execution_count": 97,
   "metadata": {},
   "outputs": [
    {
     "data": {
      "text/plain": [
       "(23, 14)"
      ]
     },
     "execution_count": 97,
     "metadata": {},
     "output_type": "execute_result"
    }
   ],
   "source": [
    "process_df[process_df.activiteprincipaleunitelegale.isnull()].shape"
   ]
  },
  {
   "cell_type": "code",
   "execution_count": null,
   "metadata": {},
   "outputs": [],
   "source": [
    "# En lançant cette commande, on voit qu'il y a 7954 entreprises qui n'ont pas d'établissement. Et 8994 établissements de santé qui n'ont pas d'activité de santé.\n",
    "\n",
    "etab_df.merge(entities_df, on='siren', how='outer', indicator=True)['_merge'].value_counts()"
   ]
  },
  {
   "cell_type": "markdown",
   "metadata": {},
   "source": [
    "Donc on refait nos deux premières tables, mais en ajoutant un # devant la dernière ligne qui filtrait par l'activité '86.'. On fait ça pous nos deux tables, ce qui va les rendre très grandes, mais normalement supportables par nos ordinateurs."
   ]
  },
  {
   "cell_type": "code",
   "execution_count": 93,
   "metadata": {},
   "outputs": [
    {
     "data": {
      "text/plain": [
       "857.083740234375"
      ]
     },
     "execution_count": 93,
     "metadata": {},
     "output_type": "execute_result"
    }
   ],
   "source": [
    "# Pour voir la taille que prennent les tables\n",
    "etab_df.memory_usage() # par colonne\n"
   ]
  },
  {
   "cell_type": "code",
   "execution_count": 94,
   "metadata": {},
   "outputs": [
    {
     "data": {
      "text/plain": [
       "898717440"
      ]
     },
     "execution_count": 94,
     "metadata": {},
     "output_type": "execute_result"
    }
   ],
   "source": [
    "etab_df.memory_usage().sum() # au total"
   ]
  },
  {
   "cell_type": "code",
   "execution_count": null,
   "metadata": {},
   "outputs": [],
   "source": [
    "etab_df.memory_usage().sum() / (1024*1024) # En Mo"
   ]
  },
  {
   "cell_type": "code",
   "execution_count": 96,
   "metadata": {},
   "outputs": [
    {
     "data": {
      "text/plain": [
       "4456.694919586182"
      ]
     },
     "execution_count": 96,
     "metadata": {},
     "output_type": "execute_result"
    }
   ],
   "source": [
    "etab_df.memory_usage(deep=True).sum() / (1024*1024) # En Mo, avec le deep = True on a une meilleure idée de ce que ça donne."
   ]
  },
  {
   "cell_type": "code",
   "execution_count": null,
   "metadata": {},
   "outputs": [],
   "source": []
  }
 ],
 "metadata": {
  "kernelspec": {
   "display_name": "Python 3",
   "language": "python",
   "name": "python3"
  },
  "language_info": {
   "codemirror_mode": {
    "name": "ipython",
    "version": 3
   },
   "file_extension": ".py",
   "mimetype": "text/x-python",
   "name": "python",
   "nbconvert_exporter": "python",
   "pygments_lexer": "ipython3",
   "version": "3.7.2"
  }
 },
 "nbformat": 4,
 "nbformat_minor": 2
}
